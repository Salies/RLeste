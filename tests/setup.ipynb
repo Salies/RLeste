{
 "cells": [
  {
   "cell_type": "code",
   "execution_count": 39,
   "id": "90b87b3a",
   "metadata": {},
   "outputs": [],
   "source": [
    "from Pyleste.PICO8 import PICO8\n",
    "from Pyleste.Carts.Celeste import Celeste\n",
    "import Pyleste.CelesteUtils as utils"
   ]
  },
  {
   "cell_type": "code",
   "execution_count": 40,
   "id": "fd79a610",
   "metadata": {},
   "outputs": [
    {
     "name": "stdout",
     "output_type": "stream",
     "text": [
      "██████████████████████████    ██\n",
      "██████████████                ██\n",
      "████████                      ██\n",
      "██████                    ██████\n",
      "██▓▓▓▓                  ████████\n",
      "██▓▓▓▓                      ████\n",
      "██████████                    ██\n",
      "████                          ██\n",
      "██                            ██\n",
      "██                        ██████\n",
      "                            ████\n",
      "              ████          ████\n",
      "      ████    ████    ʌʌʌʌʌʌ████\n",
      "██████████    ████ʌʌʌʌ██████████\n",
      "██████████ʌʌʌʌ██████████████████\n",
      ":D██████████████████████████████\n",
      "\n"
     ]
    }
   ],
   "source": [
    "p8 = PICO8(Celeste)\n",
    "utils.load_room(p8, 0)\n",
    "utils.skip_player_spawn(p8)\n",
    "LEVEL_GOAL = (108, 0)\n",
    "\n",
    "utils.place_maddy(p8, 0, 120)\n",
    "\n",
    "#p8.set_btn_state(38)\n",
    "\n",
    "# 10 = alive and dashing\n",
    "# 50 = dead, RIP :(\n",
    "for _ in range(10):\n",
    "    p8.step()\n",
    "\n",
    "print(p8.game)"
   ]
  },
  {
   "cell_type": "code",
   "execution_count": 41,
   "id": "5b33c388",
   "metadata": {},
   "outputs": [
    {
     "data": {
      "text/plain": [
       "{'x': 0, 'y': 120, 'rem_x': 0, 'rem_y': 0, 'spd_x': 0, 'spd_y': 0}"
      ]
     },
     "execution_count": 41,
     "metadata": {},
     "output_type": "execute_result"
    }
   ],
   "source": [
    "# get reduced state from emulator\n",
    "def get_state(p8):\n",
    "    state_obj = {\n",
    "        'x':0,\n",
    "        'y':0,\n",
    "        'rem_x':0,\n",
    "        'rem_y':0,\n",
    "        'spd_x':0,\n",
    "        'spd_y':0\n",
    "    }\n",
    "\n",
    "    p = p8.game.get_player()\n",
    "    \n",
    "    if not p:\n",
    "        state_obj['x'] = p8.game.last_player_pos[0]\n",
    "        state_obj['y'] = p8.game.last_player_pos[1]\n",
    "        state_obj['rem_x'] = p8.game.last_player_rem[0]\n",
    "        state_obj['rem_y'] = p8.game.last_player_rem[1]\n",
    "        state_obj['spd_x'] = p8.game.last_player_rem[0]\n",
    "        state_obj['spd_y'] = p8.game.last_player_rem[1]\n",
    "        return state_obj\n",
    "    \n",
    "    state_obj['x'] = p.x\n",
    "    state_obj['y'] = p.y\n",
    "    state_obj['rem_x'] = p.rem.x\n",
    "    state_obj['rem_y'] = p.rem.y\n",
    "    state_obj['spd_x'] = p.spd.x\n",
    "    state_obj['spd_y'] = p.spd.y\n",
    "\n",
    "    return state_obj\n",
    "\n",
    "get_state(p8)"
   ]
  },
  {
   "cell_type": "code",
   "execution_count": 42,
   "id": "e05f2171",
   "metadata": {},
   "outputs": [
    {
     "data": {
      "text/plain": [
       "8"
      ]
     },
     "execution_count": 42,
     "metadata": {},
     "output_type": "execute_result"
    }
   ],
   "source": [
    "def reward(p8):\n",
    "    p = p8.game.get_player()\n",
    "\n",
    "    x, y, remx, remy, spdx, spdy, reward = 0, 0, 0, 0, 0, 0, 0\n",
    "    if not p:\n",
    "        x = p8.game.last_player_pos[0]\n",
    "        y = p8.game.last_player_pos[1]\n",
    "        remx = p8.game.last_player_rem[0]\n",
    "        remy = p8.game.last_player_rem[1]\n",
    "        spdx = p8.game.last_player_spd[0]\n",
    "        spdy = p8.game.last_player_spd[1]\n",
    "        # punish death\n",
    "        reward -= 100\n",
    "    else:\n",
    "        x = p.x\n",
    "        y = p.y\n",
    "        remx = p.rem.x\n",
    "        remy = p.rem.y\n",
    "        spdx = p.spd.x\n",
    "        spdy = p.spd.y\n",
    "\n",
    "    # for this level, the bigger the x, the better\n",
    "    reward += x\n",
    "    # the lower the y, the better\n",
    "    reward += 128 - y\n",
    "\n",
    "    # the exit requires fast upper movement, so let's reward that a little\n",
    "    # speed values are generally very controller, so I actually need\n",
    "    # to give it a little bump so it makes a difference\n",
    "    reward += 2 * spdx # bigger x = better\n",
    "    reward += (-1) * 5 * spdy # -1 because smaller y = better\n",
    "\n",
    "    return reward\n",
    "\n",
    "reward(p8)"
   ]
  },
  {
   "cell_type": "code",
   "execution_count": 43,
   "id": "1bed5335",
   "metadata": {},
   "outputs": [
    {
     "name": "stdout",
     "output_type": "stream",
     "text": [
      "██████████████████████████    ██\n",
      "██████████████                ██\n",
      "████████                      ██\n",
      "██████                    ██████\n",
      "██▓▓▓▓                  ████████\n",
      "██▓▓▓▓                      ████\n",
      "██████████                    ██\n",
      "████                          ██\n",
      "██                            ██\n",
      "██                        ██████\n",
      "                            ████\n",
      "              ████          ████\n",
      "      ████    ████    ʌʌʌʌʌʌ████\n",
      "██████████    ████ʌʌʌʌ██████████\n",
      "██████████ʌʌʌʌ██████████████████\n",
      ":D██████████████████████████████\n",
      "\n"
     ]
    }
   ],
   "source": [
    "def render(p8):\n",
    "    print(p8.game)\n",
    "\n",
    "render(p8)"
   ]
  },
  {
   "cell_type": "code",
   "execution_count": 44,
   "id": "142dd2fc",
   "metadata": {},
   "outputs": [
    {
     "data": {
      "text/plain": [
       "[0, 1, 2, 16, 17, 18, 32, 33, 34, 36, 37, 38, 40, 41, 42]"
      ]
     },
     "execution_count": 44,
     "metadata": {},
     "output_type": "execute_result"
    }
   ],
   "source": [
    "def get_all_actions():\n",
    "    return [\n",
    "        0,   # no input\n",
    "        1,   # l\n",
    "        2,   # r\n",
    "        16,  # z\n",
    "        17,  # l + z\n",
    "        18,  # r + z\n",
    "        32,  # x\n",
    "        33,  # l + x\n",
    "        34,  # r + x\n",
    "        36,  # u + x\n",
    "        37,  # u + l + x\n",
    "        38,  # u + r + x\n",
    "        40,  # d + x\n",
    "        41,  # d + l + x\n",
    "        42   # d + r + x\n",
    "    ]\n",
    "get_all_actions()"
   ]
  },
  {
   "cell_type": "code",
   "execution_count": null,
   "id": "e3862d2b",
   "metadata": {},
   "outputs": [
    {
     "ename": "KeyboardInterrupt",
     "evalue": "",
     "output_type": "error",
     "traceback": [
      "\u001b[31m---------------------------------------------------------------------------\u001b[39m",
      "\u001b[31mKeyboardInterrupt\u001b[39m                         Traceback (most recent call last)",
      "\u001b[36mCell\u001b[39m\u001b[36m \u001b[39m\u001b[32mIn[45]\u001b[39m\u001b[32m, line 52\u001b[39m\n\u001b[32m     49\u001b[39m     \u001b[38;5;28;01mif\u001b[39;00m p.dash_time != \u001b[32m0\u001b[39m: \u001b[38;5;28;01mreturn\u001b[39;00m [\u001b[32m0b000000\u001b[39m]\n\u001b[32m     50\u001b[39m     \u001b[38;5;28;01mreturn\u001b[39;00m eval_actions(*action_restrictions(p8.game, p))\n\u001b[32m---> \u001b[39m\u001b[32m52\u001b[39m \u001b[43mget_possible_actions\u001b[49m\u001b[43m(\u001b[49m\u001b[43mp8\u001b[49m\u001b[43m)\u001b[49m\n",
      "\u001b[36mCell\u001b[39m\u001b[36m \u001b[39m\u001b[32mIn[45]\u001b[39m\u001b[32m, line 50\u001b[39m, in \u001b[36mget_possible_actions\u001b[39m\u001b[34m(p8)\u001b[39m\n\u001b[32m     47\u001b[39m     \u001b[38;5;28;01mreturn\u001b[39;00m []\n\u001b[32m     49\u001b[39m \u001b[38;5;28;01mif\u001b[39;00m p.dash_time != \u001b[32m0\u001b[39m: \u001b[38;5;28;01mreturn\u001b[39;00m [\u001b[32m0b000000\u001b[39m]\n\u001b[32m---> \u001b[39m\u001b[32m50\u001b[39m \u001b[38;5;28;01mreturn\u001b[39;00m eval_actions(*\u001b[43maction_restrictions\u001b[49m\u001b[43m(\u001b[49m\u001b[43mp8\u001b[49m\u001b[43m.\u001b[49m\u001b[43mgame\u001b[49m\u001b[43m,\u001b[49m\u001b[43m \u001b[49m\u001b[43mp\u001b[49m\u001b[43m)\u001b[49m)\n",
      "\u001b[36mCell\u001b[39m\u001b[36m \u001b[39m\u001b[32mIn[45]\u001b[39m\u001b[32m, line 11\u001b[39m, in \u001b[36maction_restrictions\u001b[39m\u001b[34m(game, player)\u001b[39m\n\u001b[32m     10\u001b[39m \u001b[38;5;28;01mdef\u001b[39;00m\u001b[38;5;250m \u001b[39m\u001b[34maction_restrictions\u001b[39m(game, player):\n\u001b[32m---> \u001b[39m\u001b[32m11\u001b[39m     dx, dy = \u001b[43mcompute_displacement\u001b[49m\u001b[43m(\u001b[49m\u001b[43mplayer\u001b[49m\u001b[43m)\u001b[49m\n\u001b[32m     12\u001b[39m     h_movement = \u001b[38;5;28mabs\u001b[39m(player.spd.x) <= \u001b[32m1\u001b[39m\n\u001b[32m     13\u001b[39m     can_jump = \u001b[38;5;129;01mnot\u001b[39;00m player.p_jump \u001b[38;5;129;01mand\u001b[39;00m (player.grace - \u001b[32m1\u001b[39m > \u001b[32m0\u001b[39m \u001b[38;5;129;01mor\u001b[39;00m player.is_solid(-\u001b[32m3\u001b[39m + dx, dy) \u001b[38;5;129;01mor\u001b[39;00m player.is_solid(\u001b[32m3\u001b[39m + dx, dy) \u001b[38;5;129;01mor\u001b[39;00m player.is_solid(dx, \u001b[32m1\u001b[39m + dy))\n",
      "\u001b[36mCell\u001b[39m\u001b[36m \u001b[39m\u001b[32mIn[45]\u001b[39m\u001b[32m, line 6\u001b[39m, in \u001b[36mcompute_displacement\u001b[39m\u001b[34m(player)\u001b[39m\n\u001b[32m      4\u001b[39m dx, dy = \u001b[38;5;28mround\u001b[39m(player.rem.x + player.spd.x), \u001b[38;5;28mround\u001b[39m(player.rem.y + player.spd.y)\n\u001b[32m      5\u001b[39m dx, dy = dx + sign(dx), dy + sign(dy)\n\u001b[32m----> \u001b[39m\u001b[32m6\u001b[39m \u001b[38;5;28;01mwhile\u001b[39;00m player.is_solid(dx, \u001b[32m0\u001b[39m): dx -= sign(player.spd.x)\n\u001b[32m      7\u001b[39m \u001b[38;5;28;01mwhile\u001b[39;00m player.is_solid(dx, dy): dy -= sign(player.spd.y)\n\u001b[32m      8\u001b[39m \u001b[38;5;28;01mreturn\u001b[39;00m dx, dy\n",
      "\u001b[31mKeyboardInterrupt\u001b[39m: "
     ]
    }
   ],
   "source": [
    "# auxiliary functions for action analysis\n",
    "def compute_displacement(player):\n",
    "    sign = lambda x: 1 if x > 0 else -1 if x < 0 else 0\n",
    "    dx, dy = round(player.rem.x + player.spd.x), round(player.rem.y + player.spd.y)\n",
    "    dx, dy = dx + sign(dx), dy + sign(dy)\n",
    "    while player.is_solid(dx, 0): dx -= sign(player.spd.x)\n",
    "    while player.is_solid(dx, dy): dy -= sign(player.spd.y)\n",
    "    return dx, dy\n",
    "\n",
    "def action_restrictions(game, player):\n",
    "    dx, dy = compute_displacement(player)\n",
    "    h_movement = abs(player.spd.x) <= 1\n",
    "    can_jump = not player.p_jump and (player.grace - 1 > 0 or player.is_solid(-3 + dx, dy) or player.is_solid(3 + dx, dy) or player.is_solid(dx, 1 + dy))\n",
    "    can_dash = player.djump > 0 or player.is_solid(dx, 1 + dy) or player.check(game.balloon, 0, 0) or player.check(game.fruit, 0, 0) or player.check(game.fly_fruit, 0, 0)\n",
    "    return h_movement, can_jump, can_dash\n",
    "\n",
    "def eval_actions(h_movement, can_jump, can_dash):\n",
    "    ''' button states\n",
    "        0b000000 -  0 - no input\n",
    "        0b000001 -  1 - l\n",
    "        0b000010 -  2 - r\n",
    "        0b010000 - 16 - z\n",
    "        0b010001 - 17 - l + z\n",
    "        0b010010 - 18 - r + z\n",
    "        0b100000 - 32 - x\n",
    "        0b100001 - 33 - l + x\n",
    "        0b100010 - 34 - r + x\n",
    "        0b100100 - 36 - u + x\n",
    "        0b100101 - 37 - u + l + x\n",
    "        0b100110 - 38 - u + r + x\n",
    "        0b101000 - 40 - d + x\n",
    "        0b101001 - 41 - d + l + x\n",
    "        0b101010 - 42 - d + r + x\n",
    "    '''\n",
    "    actions = [0b000000] if not h_movement else [0b000000, 0b000001, 0b000010]\n",
    "    if can_jump:\n",
    "        actions.extend([0b010000] if not h_movement else [0b010000, 0b010001, 0b010010])\n",
    "    if can_dash:\n",
    "        actions.extend([0b100000, 0b100001, 0b100010, 0b100100, 0b100101, 0b100110, 0b101000, 0b101001, 0b101010])\n",
    "    return actions\n",
    "\n",
    "\n",
    "def get_possible_actions(p8):\n",
    "    p = p8.game.get_player()\n",
    "\n",
    "    if not p: # dead player\n",
    "        return []\n",
    "\n",
    "    if p.dash_time != 0: return [0b000000]\n",
    "    return eval_actions(*action_restrictions(p8.game, p))\n",
    "\n",
    "#get_possible_actions(p8)"
   ]
  },
  {
   "cell_type": "code",
   "execution_count": null,
   "id": "a2acb28f",
   "metadata": {},
   "outputs": [
    {
     "data": {
      "text/plain": [
       "240"
      ]
     },
     "execution_count": 31,
     "metadata": {},
     "output_type": "execute_result"
    }
   ],
   "source": [
    "p8.game.frames * 30"
   ]
  },
  {
   "cell_type": "code",
   "execution_count": null,
   "id": "ba0512e2",
   "metadata": {},
   "outputs": [
    {
     "data": {
      "text/plain": [
       "16.1245154965971"
      ]
     },
     "execution_count": 32,
     "metadata": {},
     "output_type": "execute_result"
    }
   ],
   "source": [
    "# euclidean distance\n",
    "def distance_to_goal(p8):\n",
    "    x_goal, y_goal = LEVEL_GOAL\n",
    "    p = p8.game.get_player()\n",
    "    if not p:\n",
    "        x, y = p8.game.last_player_pos\n",
    "    else:\n",
    "        x, y = p.x, p.y\n",
    "    return ((x - x_goal) ** 2 + (y - y_goal) ** 2) ** 0.5\n",
    "\n",
    "distance_to_goal(p8)"
   ]
  }
 ],
 "metadata": {
  "kernelspec": {
   "display_name": "rl",
   "language": "python",
   "name": "python3"
  },
  "language_info": {
   "codemirror_mode": {
    "name": "ipython",
    "version": 3
   },
   "file_extension": ".py",
   "mimetype": "text/x-python",
   "name": "python",
   "nbconvert_exporter": "python",
   "pygments_lexer": "ipython3",
   "version": "3.13.5"
  }
 },
 "nbformat": 4,
 "nbformat_minor": 5
}
